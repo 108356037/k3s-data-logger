{
 "metadata": {
  "language_info": {
   "codemirror_mode": {
    "name": "ipython",
    "version": 3
   },
   "file_extension": ".py",
   "mimetype": "text/x-python",
   "name": "python",
   "nbconvert_exporter": "python",
   "pygments_lexer": "ipython3",
   "version": "3.8.6-final"
  },
  "orig_nbformat": 2,
  "kernelspec": {
   "name": "python3",
   "display_name": "Python 3.8.6 64-bit",
   "metadata": {
    "interpreter": {
     "hash": "aee8b7b246df8f9039afb4144a1f6fd8d2ca17a180786b69acc140d282b71a49"
    }
   }
  }
 },
 "nbformat": 4,
 "nbformat_minor": 2,
 "cells": [
  {
   "cell_type": "code",
   "execution_count": 2,
   "metadata": {},
   "outputs": [],
   "source": [
    "import utils.connect_mods as conn\n",
    "import utils.payload_construct_mods as paystruct"
   ]
  },
  {
   "cell_type": "code",
   "execution_count": 3,
   "metadata": {},
   "outputs": [
    {
     "output_type": "stream",
     "name": "stdout",
     "text": [
      "{\n    \"mqtt\": {\n        \"oringpaas\": {\n            \"client_id\": \"thing:syjmHv7z-\",\n            \"host\": \"mqtt.paas.oringnet.cloud\",\n            \"port\": 1883,\n            \"username\": \"syjmHv7z-\",\n            \"userpw\": \"ZCsC5XNCsk~mzrsy\",\n            \"keepalive\": 60,\n            \"topic\": {\n                \"Command\": \"$thing/syjmHv7z-/$cmd/$downlink/\",\n                \"Downlink config\": \"$thing/syjmHv7z-/$conf/$expected/\",\n                \"Uplink config\": \"$thing/syjmHv7z-/$conf/$reported/\",\n                \"Data\": \"$thing/syjmHv7z-/$data/\"\n            },\n            \"publish_path\": {\n                \"dataBucket\": \"sensorData\",\n                \"dataShapes\": [\n                    \"voltage\",\n                    \"cpuTemp\"\n                ]\n            }\n        }\n    }\n}\n"
     ]
    }
   ],
   "source": [
    "import yaml\n",
    "import json\n",
    "\n",
    "with open('device_config.yaml') as f:\n",
    "    \n",
    "    data = yaml.load(f, Loader=yaml.FullLoader)\n",
    "    print(json.dumps(data, indent=4))"
   ]
  },
  {
   "cell_type": "code",
   "execution_count": 4,
   "metadata": {},
   "outputs": [
    {
     "output_type": "execute_result",
     "data": {
      "text/plain": [
       "['voltage', 'cpuTemp']"
      ]
     },
     "metadata": {},
     "execution_count": 4
    }
   ],
   "source": [
    "data[\"mqtt\"][\"oringpaas\"][\"publish_path\"][\"dataShapes\"]"
   ]
  },
  {
   "cell_type": "code",
   "execution_count": 6,
   "metadata": {},
   "outputs": [
    {
     "output_type": "stream",
     "name": "stdout",
     "text": [
      "connect to mqtt.paas.oringnet.cloud:1883\n",
      "Connected with result code 0\n",
      "userdata: None, mid: 1\n",
      "is published: True\n"
     ]
    },
    {
     "output_type": "execute_result",
     "data": {
      "text/plain": [
       "0"
      ]
     },
     "metadata": {},
     "execution_count": 6
    }
   ],
   "source": [
    "a = conn.mqtt_connack(**data['mqtt']['oringpaas'])\n",
    "a.connect()\n",
    "a.payload_submit(json.dumps({\"id\":\"voltage\",\"value\":'test'}))\n",
    "a.client.disconnect()"
   ]
  },
  {
   "cell_type": "code",
   "execution_count": null,
   "metadata": {},
   "outputs": [],
   "source": [
    "import joblib\n",
    "import time\n",
    "import scipy.stats\n",
    "\n",
    "a = conn.mqtt_connack(**data['mqtt']['oringpaas'])\n",
    "a.connect()\n",
    "a.client.loop_start()\n",
    "\n",
    "while True:\n",
    "    sim_data = {}\n",
    "    cols = ['DO', 'BOD', 'SS', 'Nitrogen']\n",
    "    for i in range(4):\n",
    "        kde = joblib.load(f'./sim_kdes/kde{i}.pkl')\n",
    "        _data = kde.resample(1).T[:,0]\n",
    "        sim_data[cols[i]] = str(round(_data[0],2))\n",
    "    \n",
    "    a.payload_submit(json.dumps({\"id\":\"fullDataPackt\",\"value\":str(sim_data)}))\n",
    "    time.sleep(5.0)\n",
    "# sim_data"
   ]
  }
 ]
}