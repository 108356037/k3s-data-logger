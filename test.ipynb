{
 "metadata": {
  "language_info": {
   "codemirror_mode": {
    "name": "ipython",
    "version": 3
   },
   "file_extension": ".py",
   "mimetype": "text/x-python",
   "name": "python",
   "nbconvert_exporter": "python",
   "pygments_lexer": "ipython3",
   "version": "3.6.9-final"
  },
  "orig_nbformat": 2,
  "kernelspec": {
   "name": "python36964bite50157c3c5874087b4469bf870d5c2ac",
   "display_name": "Python 3.6.9 64-bit",
   "language": "python"
  }
 },
 "nbformat": 4,
 "nbformat_minor": 2,
 "cells": [
  {
   "cell_type": "code",
   "execution_count": 5,
   "metadata": {},
   "outputs": [],
   "source": [
    "import utils.connect_mods as conn\n",
    "import utils.payload_construct_mods as paystruct"
   ]
  },
  {
   "cell_type": "code",
   "execution_count": 6,
   "metadata": {},
   "outputs": [
    {
     "output_type": "stream",
     "name": "stdout",
     "text": [
      "{\n    \"mqtt\": {\n        \"oringpaas\": {\n            \"client_id\": \"thing:syjmHv7z-\",\n            \"host\": \"mqtt.paas.oringnet.cloud\",\n            \"port\": 1883,\n            \"username\": \"syjmHv7z-\",\n            \"userpw\": \"ZCsC5XNCsk~mzrsy\",\n            \"keepalive\": 60,\n            \"topic\": {\n                \"Command\": \"$thing/syjmHv7z-/$cmd/$downlink/\",\n                \"Downlink config\": \"$thing/syjmHv7z-/$conf/$expected/\",\n                \"Uplink config\": \"$thing/syjmHv7z-/$conf/$reported/\",\n                \"Data\": \"$thing/syjmHv7z-/$data/\"\n            },\n            \"publish_path\": {\n                \"dataBucket\": \"sensorData\",\n                \"dataShapes\": [\n                    \"voltage\",\n                    \"cpuTemp\"\n                ]\n            }\n        }\n    }\n}\n"
     ]
    }
   ],
   "source": [
    "import yaml\n",
    "import json\n",
    "\n",
    "with open('device_config.yaml') as f:\n",
    "    \n",
    "    data = yaml.load(f, Loader=yaml.FullLoader)\n",
    "    print(json.dumps(data, indent=4))"
   ]
  },
  {
   "cell_type": "code",
   "execution_count": 7,
   "metadata": {},
   "outputs": [
    {
     "output_type": "execute_result",
     "data": {
      "text/plain": [
       "['voltage', 'cpuTemp']"
      ]
     },
     "metadata": {},
     "execution_count": 7
    }
   ],
   "source": [
    "data[\"mqtt\"][\"oringpaas\"][\"publish_path\"][\"dataShapes\"]"
   ]
  },
  {
   "cell_type": "code",
   "execution_count": 8,
   "metadata": {},
   "outputs": [],
   "source": [
    "a = conn.mqtt_connack(**data['mqtt']['oringpaas'])"
   ]
  },
  {
   "cell_type": "code",
   "execution_count": 9,
   "metadata": {},
   "outputs": [
    {
     "output_type": "stream",
     "name": "stdout",
     "text": [
      "connect to mqtt.paas.oringnet.cloud:1883\n"
     ]
    }
   ],
   "source": [
    "a.connect()"
   ]
  },
  {
   "cell_type": "code",
   "execution_count": 10,
   "metadata": {},
   "outputs": [
    {
     "output_type": "stream",
     "name": "stdout",
     "text": [
      "Connected with result code 0\nuserdata: None, mid: 1\nis published: True\n"
     ]
    }
   ],
   "source": [
    "a.payload_submit(json.dumps({\"id\":\"voltage\",\"value\":\"0.92v\"}))"
   ]
  },
  {
   "cell_type": "code",
   "execution_count": null,
   "metadata": {},
   "outputs": [],
   "source": []
  }
 ]
}