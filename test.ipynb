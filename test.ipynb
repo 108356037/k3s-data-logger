{
 "metadata": {
  "language_info": {
   "codemirror_mode": {
    "name": "ipython",
    "version": 3
   },
   "file_extension": ".py",
   "mimetype": "text/x-python",
   "name": "python",
   "nbconvert_exporter": "python",
   "pygments_lexer": "ipython3",
   "version": "3.8.5-final"
  },
  "orig_nbformat": 2,
  "kernelspec": {
   "name": "python3",
   "display_name": "Python 3.8.5 64-bit",
   "metadata": {
    "interpreter": {
     "hash": "916dbcbb3f70747c44a77c7bcd40155683ae19c65e1c03b4aa3499c5328201f1"
    }
   }
  }
 },
 "nbformat": 4,
 "nbformat_minor": 2,
 "cells": [
  {
   "cell_type": "code",
   "execution_count": 1,
   "metadata": {},
   "outputs": [],
   "source": [
    "import utils.connect_mods as conn\n",
    "import utils.payload_construct_mods as paystruct"
   ]
  },
  {
   "cell_type": "code",
   "execution_count": 3,
   "metadata": {},
   "outputs": [
    {
     "output_type": "stream",
     "name": "stdout",
     "text": [
      "{\n    \"mqtt\": {\n        \"oringpaas\": {\n            \"client_id\": \"thing:syjmHv7z-\",\n            \"host\": \"mqtt.paas.oringnet.cloud\",\n            \"port\": 1883,\n            \"username\": \"syjmHv7z-\",\n            \"userpw\": \"ZCsC5XNCsk~mzrsy\",\n            \"keepalive\": 60,\n            \"topic\": \"$thing/syjmHv7z-/$data/\",\n            \"publish_path\": \"sensorData\"\n        }\n    }\n}\n"
     ]
    }
   ],
   "source": [
    "import yaml\n",
    "import json\n",
    "\n",
    "with open('device_config.yaml') as f:\n",
    "    \n",
    "    data = yaml.load(f, Loader=yaml.FullLoader)\n",
    "    print(json.dumps(data, indent=4))"
   ]
  },
  {
   "cell_type": "code",
   "execution_count": 3,
   "metadata": {},
   "outputs": [
    {
     "output_type": "stream",
     "name": "stdout",
     "text": [
      "connect to mqtt.paas.oringnet.cloud:1883\n",
      "Connected with result code 0\n",
      "userdata: None, mid: 1\n",
      "is published: True\n"
     ]
    },
    {
     "output_type": "execute_result",
     "data": {
      "text/plain": [
       "0"
      ]
     },
     "metadata": {},
     "execution_count": 3
    }
   ],
   "source": [
    "a = conn.mqtt_connack(**data['mqtt']['oringpaas'])\n",
    "a.connect()\n",
    "a.payload_submit(json.dumps({\"id\":\"voltage\",\"value\":'test'}))\n",
    "a.client.disconnect()"
   ]
  },
  {
   "cell_type": "code",
   "execution_count": null,
   "metadata": {},
   "outputs": [],
   "source": [
    "import joblib\n",
    "import time\n",
    "import scipy.stats\n",
    "\n",
    "a = conn.mqtt_connack(**data['mqtt']['oringpaas'])\n",
    "a.connect()\n",
    "a.client.loop_start()\n",
    "\n",
    "while True:\n",
    "    sim_data = {}\n",
    "    cols = ['DO', 'BOD', 'SS', 'Nitrogen']\n",
    "    for i in range(4):\n",
    "        kde = joblib.load(f\"./sim_kdes/kde{i}.pkl\")\n",
    "        _data = kde.resample(1).T[:,0]\n",
    "        sim_data[cols[i]] = str(round(_data[0],2))\n",
    "    \n",
    "    a.payload_submit(json.dumps({\"id\":\"fullDataPackt\",\"value\":str(sim_data)}))\n",
    "    time.sleep(5.0)\n",
    "# sim_data"
   ]
  },
  {
   "cell_type": "code",
   "execution_count": 4,
   "metadata": {},
   "outputs": [
    {
     "output_type": "execute_result",
     "data": {
      "text/plain": [
       "['__class__',\n",
       " '__delattr__',\n",
       " '__dict__',\n",
       " '__dir__',\n",
       " '__doc__',\n",
       " '__eq__',\n",
       " '__format__',\n",
       " '__ge__',\n",
       " '__getattribute__',\n",
       " '__gt__',\n",
       " '__hash__',\n",
       " '__init__',\n",
       " '__init_subclass__',\n",
       " '__le__',\n",
       " '__lt__',\n",
       " '__module__',\n",
       " '__ne__',\n",
       " '__new__',\n",
       " '__reduce__',\n",
       " '__reduce_ex__',\n",
       " '__repr__',\n",
       " '__setattr__',\n",
       " '__sizeof__',\n",
       " '__str__',\n",
       " '__subclasshook__',\n",
       " '__weakref__',\n",
       " 'client',\n",
       " 'client_id',\n",
       " 'connect',\n",
       " 'host',\n",
       " 'keepalive',\n",
       " 'on_connect',\n",
       " 'on_message',\n",
       " 'on_publish',\n",
       " 'payload_submit',\n",
       " 'port',\n",
       " 'publish_path',\n",
       " 'topic',\n",
       " 'username',\n",
       " 'userpw']"
      ]
     },
     "metadata": {},
     "execution_count": 4
    }
   ],
   "source": [
    "a = conn.mqtt_connack(**data['mqtt']['oringpaas'])\n",
    "dir(a)"
   ]
  },
  {
   "cell_type": "code",
   "execution_count": 5,
   "metadata": {},
   "outputs": [
    {
     "output_type": "execute_result",
     "data": {
      "text/plain": [
       "{'dataBucket': 'sensorData',\n",
       " 'dataShapes': ['voltage', 'cpuTemp', 'fullDataPackt']}"
      ]
     },
     "metadata": {},
     "execution_count": 5
    }
   ],
   "source": [
    "a.publish_path"
   ]
  },
  {
   "cell_type": "code",
   "execution_count": 8,
   "metadata": {},
   "outputs": [
    {
     "output_type": "execute_result",
     "data": {
      "text/plain": [
       "environ{'ELECTRON_RUN_AS_NODE': '1',\n",
       "        'GJS_DEBUG_TOPICS': 'JS ERROR;JS LOG',\n",
       "        'LC_TIME': 'en_US.UTF-8',\n",
       "        'USER': 'tsai',\n",
       "        'SSH_AGENT_PID': '6835',\n",
       "        'XDG_SESSION_TYPE': 'x11',\n",
       "        'SHLVL': '0',\n",
       "        'HOME': '/home/tsai',\n",
       "        'DESKTOP_SESSION': 'ubuntu',\n",
       "        'GIO_LAUNCHED_DESKTOP_FILE': '/usr/share/applications/code.desktop',\n",
       "        'GTK_MODULES': 'gail:atk-bridge',\n",
       "        'GNOME_SHELL_SESSION_MODE': 'ubuntu',\n",
       "        'LC_MONETARY': 'en_US.UTF-8',\n",
       "        'MANAGERPID': '6519',\n",
       "        'DBUS_SESSION_BUS_ADDRESS': 'unix:path=/run/user/1000/bus',\n",
       "        'GIO_LAUNCHED_DESKTOP_FILE_PID': '13788',\n",
       "        'IM_CONFIG_PHASE': '1',\n",
       "        'LOGNAME': 'tsai',\n",
       "        '_': '/usr/share/code/code',\n",
       "        'JOURNAL_STREAM': '8:60909',\n",
       "        'XDG_SESSION_CLASS': 'user',\n",
       "        'USERNAME': 'tsai',\n",
       "        'GNOME_DESKTOP_SESSION_ID': 'this-is-deprecated',\n",
       "        'WINDOWPATH': '2',\n",
       "        'PATH': '/home/tsai/.cargo/bin:/home/tsai/.local/bin:/home/tsai/bin:/usr/local/sbin:/usr/local/bin:/usr/sbin:/usr/bin:/sbin:/bin:/usr/games:/usr/local/games:/snap/bin:/usr/local/go/bin:/home/tsai/go/bin',\n",
       "        'PAPERSIZE': 'letter',\n",
       "        'SESSION_MANAGER': 'local/tsai-amd-rig:@/tmp/.ICE-unix/6870,unix/tsai-amd-rig:/tmp/.ICE-unix/6870',\n",
       "        'INVOCATION_ID': 'df6ca685c57b45d5b8138d0b3d760a9b',\n",
       "        'LC_ADDRESS': 'en_US.UTF-8',\n",
       "        'XDG_RUNTIME_DIR': '/run/user/1000',\n",
       "        'XDG_MENU_PREFIX': 'gnome-',\n",
       "        'DISPLAY': ':1',\n",
       "        'LANG': 'en_US.UTF-8',\n",
       "        'LC_TELEPHONE': 'en_US.UTF-8',\n",
       "        'XDG_CURRENT_DESKTOP': 'Unity',\n",
       "        'XAUTHORITY': '/run/user/1000/gdm/Xauthority',\n",
       "        'XDG_SESSION_DESKTOP': 'ubuntu',\n",
       "        'XMODIFIERS': '@im=ibus',\n",
       "        'SSH_AUTH_SOCK': '/run/user/1000/keyring/ssh',\n",
       "        'LC_NAME': 'en_US.UTF-8',\n",
       "        'SHELL': '/usr/bin/zsh',\n",
       "        'QT_ACCESSIBILITY': '1',\n",
       "        'GDMSESSION': 'ubuntu',\n",
       "        'LC_MEASUREMENT': 'en_US.UTF-8',\n",
       "        'LC_IDENTIFICATION': 'en_US.UTF-8',\n",
       "        'GPG_AGENT_INFO': '/run/user/1000/gnupg/S.gpg-agent:0:1',\n",
       "        'GJS_DEBUG_OUTPUT': 'stderr',\n",
       "        'QT_IM_MODULE': 'ibus',\n",
       "        'PWD': '/home/tsai',\n",
       "        'XDG_DATA_DIRS': '/usr/share/ubuntu:/usr/local/share/:/usr/share/:/var/lib/snapd/desktop',\n",
       "        'XDG_CONFIG_DIRS': '/etc/xdg/xdg-ubuntu:/etc/xdg',\n",
       "        'LC_NUMERIC': 'en_US.UTF-8',\n",
       "        'LC_PAPER': 'en_US.UTF-8',\n",
       "        'CHROME_DESKTOP': 'code-url-handler.desktop',\n",
       "        'ORIGINAL_XDG_CURRENT_DESKTOP': 'ubuntu:GNOME',\n",
       "        'VSCODE_NLS_CONFIG': '{\"locale\":\"en-us\",\"availableLanguages\":{},\"_languagePackSupport\":true}',\n",
       "        'VSCODE_NODE_CACHED_DATA_DIR': '/home/tsai/.config/Code/CachedData/ea3859d4ba2f3e577a159bc91e3074c5d85c0523',\n",
       "        'VSCODE_IPC_HOOK': '/run/user/1000/vscode-0dfcfa99-1.52.1-main.sock',\n",
       "        'VSCODE_PID': '13788',\n",
       "        'OLDPWD': '/home/tsai',\n",
       "        'ZSH': '/home/tsai/.oh-my-zsh',\n",
       "        'PAGER': 'cat',\n",
       "        'LESS': '-R',\n",
       "        'LSCOLORS': 'Gxfxcxdxbxegedabagacad',\n",
       "        'LS_COLORS': '',\n",
       "        'AMD_ENTRYPOINT': 'vs/workbench/services/extensions/node/extensionHostProcess',\n",
       "        'PIPE_LOGGING': 'true',\n",
       "        'VERBOSE_LOGGING': 'true',\n",
       "        'VSCODE_IPC_HOOK_EXTHOST': '/run/user/1000/vscode-ipc-3edf2cb7-2bfd-48c8-9b86-9e7147fb8376.sock',\n",
       "        'VSCODE_HANDLES_UNCAUGHT_ERRORS': 'true',\n",
       "        'VSCODE_LOG_STACK': 'false',\n",
       "        'BREAKPAD_DUMP_LOCATION': '/home/tsai/.config/Code/exthost Crash Reports',\n",
       "        'CRASH_REPORTER_START_OPTIONS': '{\"companyName\":\"Microsoft\",\"productName\":\"VSCode\",\"submitURL\":\"appcenter://code?aid=fba07a4d-84bd-4fc8-a125-9640fc8ce171&uid=0cf8d4b8-630e-45a0-af77-172793e6aa11&iid=0cf8d4b8-630e-45a0-af77-172793e6aa11&sid=0cf8d4b8-630e-45a0-af77-172793e6aa11\",\"uploadToServer\":true}',\n",
       "        'APPLICATION_INSIGHTS_NO_DIAGNOSTIC_CHANNEL': 'true',\n",
       "        'PYTHONPATH': '/home/tsai/.vscode/extensions/ms-toolsai.jupyter-2020.12.414227025/pythonFiles:/home/tsai/.vscode/extensions/ms-toolsai.jupyter-2020.12.414227025/pythonFiles/lib/python',\n",
       "        'PYTHONUNBUFFERED': '1',\n",
       "        'PYTHONWARNINGS': 'ignore',\n",
       "        'PYTHONIOENCODING': 'utf-8',\n",
       "        'JPY_PARENT_PID': '14211',\n",
       "        'TERM': 'xterm-color',\n",
       "        'CLICOLOR': '1',\n",
       "        'GIT_PAGER': 'cat',\n",
       "        'MPLBACKEND': 'module://ipykernel.pylab.backend_inline'}"
      ]
     },
     "metadata": {},
     "execution_count": 8
    }
   ],
   "source": [
    "import os\n",
    "os.environ"
   ]
  },
  {
   "cell_type": "code",
   "execution_count": 1,
   "metadata": {},
   "outputs": [],
   "source": [
    "!export a='test'"
   ]
  },
  {
   "cell_type": "code",
   "execution_count": 10,
   "metadata": {},
   "outputs": [
    {
     "output_type": "error",
     "ename": "TypeError",
     "evalue": "'NoneType' object is not callable",
     "traceback": [
      "\u001b[0;31m---------------------------------------------------------------------------\u001b[0m",
      "\u001b[0;31mTypeError\u001b[0m                                 Traceback (most recent call last)",
      "\u001b[0;32m<ipython-input-10-a9424feda22c>\u001b[0m in \u001b[0;36m<module>\u001b[0;34m\u001b[0m\n\u001b[1;32m      1\u001b[0m \u001b[0;32mimport\u001b[0m \u001b[0msubprocess\u001b[0m\u001b[0;34m\u001b[0m\u001b[0;34m\u001b[0m\u001b[0m\n\u001b[1;32m      2\u001b[0m \u001b[0ma\u001b[0m\u001b[0;34m=\u001b[0m\u001b[0msubprocess\u001b[0m\u001b[0;34m.\u001b[0m\u001b[0mrun\u001b[0m\u001b[0;34m(\u001b[0m\u001b[0;34m[\u001b[0m\u001b[0;34m\"sensors\"\u001b[0m\u001b[0;34m]\u001b[0m\u001b[0;34m)\u001b[0m\u001b[0;34m\u001b[0m\u001b[0;34m\u001b[0m\u001b[0m\n\u001b[0;32m----> 3\u001b[0;31m \u001b[0ma\u001b[0m\u001b[0;34m.\u001b[0m\u001b[0mstdout\u001b[0m\u001b[0;34m(\u001b[0m\u001b[0;34m)\u001b[0m\u001b[0;34m\u001b[0m\u001b[0;34m\u001b[0m\u001b[0m\n\u001b[0m",
      "\u001b[0;31mTypeError\u001b[0m: 'NoneType' object is not callable"
     ]
    }
   ],
   "source": [
    "import subprocess\n",
    "a=subprocess.run([\"sensors\"])\n",
    "a.stdout"
   ]
  },
  {
   "cell_type": "code",
   "execution_count": 15,
   "metadata": {},
   "outputs": [
    {
     "output_type": "stream",
     "name": "stdout",
     "text": [
      "nvme-pci-0100\n\n======================================================================\nAdapter: PCI adapter\n\n======================================================================\nComposite:    +30.9°C  (low  =  -5.2°C, high = +79.8°C)\n\n======================================================================\n                       (crit = +84.8°C)\n\n======================================================================\n\n\n======================================================================\niwlwifi_1-virtual-0\n\n======================================================================\nAdapter: Virtual device\n\n======================================================================\ntemp1:        +29.0°C  \n\n======================================================================\n\n\n======================================================================\nk10temp-pci-00c3\n\n======================================================================\nAdapter: PCI adapter\n\n======================================================================\nVcore:         1.48 V  \n\n======================================================================\nVsoc:          1.09 V  \n\n======================================================================\nTctl:         +37.5°C  \n\n======================================================================\nTdie:         +37.5°C  \n\n======================================================================\nTccd1:        +35.8°C  \n\n======================================================================\nIcore:        14.00 A  \n\n======================================================================\nIsoc:          8.25 A  \n\n======================================================================\n\n\n======================================================================\n"
     ]
    }
   ],
   "source": [
    "import subprocess\n",
    "\n",
    "p = subprocess.Popen('sensors', shell=True, stdout=subprocess.PIPE, stderr=subprocess.STDOUT)\n",
    "for line in p.stdout.readlines():\n",
    "    print(line.decode())\n",
    "    print(\"=\"*70)\n",
    "retval = p.wait()"
   ]
  },
  {
   "cell_type": "code",
   "execution_count": 20,
   "metadata": {},
   "outputs": [
    {
     "output_type": "execute_result",
     "data": {
      "text/plain": [
       "'Icore:        24.00 A  \\n'"
      ]
     },
     "metadata": {},
     "execution_count": 20
    }
   ],
   "source": [
    "subprocess.Popen(['bash', '-c', 'sensors | grep -i icore'], stdout=subprocess.PIPE).communicate()[0].decode()"
   ]
  },
  {
   "cell_type": "code",
   "execution_count": null,
   "metadata": {},
   "outputs": [],
   "source": []
  }
 ]
}