{
 "cells": [
  {
   "cell_type": "code",
   "execution_count": 1,
   "metadata": {
    "ExecuteTime": {
     "end_time": "2021-01-06T12:08:32.968621Z",
     "start_time": "2021-01-06T12:08:31.993825Z"
    }
   },
   "outputs": [],
   "source": [
    "import matplotlib.pyplot as plt\n",
    "import pandas as pd\n",
    "import scipy.stats"
   ]
  },
  {
   "cell_type": "code",
   "execution_count": 2,
   "metadata": {
    "ExecuteTime": {
     "end_time": "2021-01-06T12:08:33.110850Z",
     "start_time": "2021-01-06T12:08:32.975102Z"
    }
   },
   "outputs": [],
   "source": [
    "file_name = './水質資料.xlsx'\n",
    "df = pd.read_excel(file_name, index_col=0)"
   ]
  },
  {
   "cell_type": "code",
   "execution_count": 3,
   "metadata": {
    "ExecuteTime": {
     "end_time": "2021-01-06T12:08:34.013044Z",
     "start_time": "2021-01-06T12:08:33.119552Z"
    }
   },
   "outputs": [
    {
     "data": {
      "image/png": "[encoded data removed]",
      "text/plain": [
       "<Figure size 432x288 with 1 Axes>"
      ]
     },
     "metadata": {
      "needs_background": "light"
     },
     "output_type": "display_data"
    },
    {
     "data": {
      "image/png": "[encoded data removed]",
      "text/plain": [
       "<Figure size 432x288 with 1 Axes>"
      ]
     },
     "metadata": {
      "needs_background": "light"
     },
     "output_type": "display_data"
    },
    {
     "data": {
      "image/png": "[encoded data removed]",
      "text/plain": [
       "<Figure size 432x288 with 1 Axes>"
      ]
     },
     "metadata": {
      "needs_background": "light"
     },
     "output_type": "display_data"
    },
    {
     "data": {
      "image/png": "[encoded data removed]",
      "text/plain": [
       "<Figure size 432x288 with 1 Axes>"
      ]
     },
     "metadata": {
      "needs_background": "light"
     },
     "output_type": "display_data"
    }
   ],
   "source": [
    "bufferDict = {}\n",
    "for val in df.columns.values:\n",
    "    samplePDF = scipy.stats.gaussian_kde(df[val].values[:-1])\n",
    "    fakedata = samplePDF.resample(10000).T[:,0]\n",
    "    bufferDict[val] = fakedata\n",
    "    plt.hist(fakedata, bins=100)\n",
    "    plt.show()"
   ]
  },
  {
   "cell_type": "code",
   "execution_count": 4,
   "metadata": {
    "ExecuteTime": {
     "end_time": "2021-01-06T12:08:35.627353Z",
     "start_time": "2021-01-06T12:08:35.622776Z"
    }
   },
   "outputs": [
    {
     "data": {
      "text/plain": [
       "{'DO': array([6.14951354, 5.91328508, 4.90680349, ..., 6.19906295, 7.80807624,\n",
       "        6.82915547]),\n",
       " 'BOD': array([1.78005375, 8.02362898, 4.02590584, ..., 2.59771834, 3.99100839,\n",
       "        5.8487697 ]),\n",
       " 'SS': array([19.55597812,  7.24978976, 30.6885325 , ...,  1.18295931,\n",
       "        10.65722102,  1.00200724]),\n",
       " 'Nitrogen': array([1.11945416, 3.51114917, 1.20321373, ..., 1.17225899, 2.07696608,\n",
       "        3.9538829 ])}"
      ]
     },
     "execution_count": 4,
     "metadata": {},
     "output_type": "execute_result"
    }
   ],
   "source": [
    "bufferDict"
   ]
  },
  {
   "cell_type": "code",
   "execution_count": 5,
   "metadata": {
    "ExecuteTime": {
     "end_time": "2021-01-06T12:08:36.027764Z",
     "start_time": "2021-01-06T12:08:36.022477Z"
    }
   },
   "outputs": [],
   "source": [
    "simulation_pdf = []\n",
    "\n",
    "for val in df.columns.values:\n",
    "    simulation_pdf.append(scipy.stats.gaussian_kde(df[val].values[:-1]))"
   ]
  },
  {
   "cell_type": "code",
   "execution_count": 6,
   "metadata": {
    "ExecuteTime": {
     "end_time": "2021-01-06T12:08:36.495821Z",
     "start_time": "2021-01-06T12:08:36.491232Z"
    }
   },
   "outputs": [
    {
     "data": {
      "text/plain": [
       "array([5.62282226])"
      ]
     },
     "execution_count": 6,
     "metadata": {},
     "output_type": "execute_result"
    }
   ],
   "source": [
    "simulation_pdf[0].resample(1).T[:,0]"
   ]
  },
  {
   "cell_type": "code",
   "execution_count": 13,
   "metadata": {
    "ExecuteTime": {
     "end_time": "2021-01-06T12:09:52.772369Z",
     "start_time": "2021-01-06T12:09:52.765406Z"
    }
   },
   "outputs": [],
   "source": [
    "import joblib\n",
    "for i in range(4):\n",
    "    joblib.dump(simulation_pdf[i], f'./kde{i}.pkl')"
   ]
  },
  {
   "cell_type": "code",
   "execution_count": 28,
   "metadata": {
    "ExecuteTime": {
     "end_time": "2021-01-06T12:13:18.270510Z",
     "start_time": "2021-01-06T12:13:18.258692Z"
    }
   },
   "outputs": [
    {
     "name": "stdout",
     "output_type": "stream",
     "text": [
      "[5.9116461]\n",
      "[-0.45888257]\n",
      "[10.81839364]\n",
      "[0.7627076]\n"
     ]
    }
   ],
   "source": [
    "for i in range(4):\n",
    "    kde = joblib.load(f'./kde{i}.pkl')\n",
    "    print(kde.resample(1).T[:,0])"
   ]
  },
  {
   "cell_type": "code",
   "execution_count": 36,
   "metadata": {
    "ExecuteTime": {
     "end_time": "2021-01-06T12:17:25.932879Z",
     "start_time": "2021-01-06T12:17:25.924461Z"
    }
   },
   "outputs": [],
   "source": [
    "import json\n",
    "\n",
    "sim_data = {}\n",
    "cols = ['DO', 'BOD', 'SS', 'Nitrogen']\n",
    "for i in range(4):\n",
    "    kde = joblib.load(f'./kde{i}.pkl')\n",
    "    _data = kde.resample(1).T[:,0]\n",
    "    sim_data[cols[i]] = round(_data[0],2)"
   ]
  },
  {
   "cell_type": "code",
   "execution_count": 37,
   "metadata": {
    "ExecuteTime": {
     "end_time": "2021-01-06T12:17:26.260841Z",
     "start_time": "2021-01-06T12:17:26.257342Z"
    }
   },
   "outputs": [
    {
     "data": {
      "text/plain": [
       "{'DO': 6.99, 'BOD': 10.85, 'SS': 1.06, 'Nitrogen': 1.83}"
      ]
     },
     "execution_count": 37,
     "metadata": {},
     "output_type": "execute_result"
    }
   ],
   "source": [
    "sim_data"
   ]
  },
  {
   "cell_type": "code",
   "execution_count": null,
   "metadata": {},
   "outputs": [],
   "source": []
  }
 ],
 "metadata": {
  "kernelspec": {
   "display_name": "Python 3",
   "language": "python",
   "name": "python3"
  },
  "language_info": {
   "codemirror_mode": {
    "name": "ipython",
    "version": 3
   },
   "file_extension": ".py",
   "mimetype": "text/x-python",
   "name": "python",
   "nbconvert_exporter": "python",
   "pygments_lexer": "ipython3",
   "version": "3.7.7"
  },
  "toc": {
   "base_numbering": 1,
   "nav_menu": {},
   "number_sections": true,
   "sideBar": true,
   "skip_h1_title": false,
   "title_cell": "Table of Contents",
   "title_sidebar": "Contents",
   "toc_cell": false,
   "toc_position": {},
   "toc_section_display": true,
   "toc_window_display": false
  },
  "varInspector": {
   "cols": {
    "lenName": 16,
    "lenType": 16,
    "lenVar": 40
   },
   "kernels_config": {
    "python": {
     "delete_cmd_postfix": "",
     "delete_cmd_prefix": "del ",
     "library": "var_list.py",
     "varRefreshCmd": "print(var_dic_list())"
    },
    "r": {
     "delete_cmd_postfix": ") ",
     "delete_cmd_prefix": "rm(",
     "library": "var_list.r",
     "varRefreshCmd": "cat(var_dic_list()) "
    }
   },
   "types_to_exclude": [
    "module",
    "function",
    "builtin_function_or_method",
    "instance",
    "_Feature"
   ],
   "window_display": false
  }
 },
 "nbformat": 4,
 "nbformat_minor": 2
}
